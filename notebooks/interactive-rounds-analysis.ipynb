{
 "cells": [
  {
   "cell_type": "code",
   "execution_count": 1,
   "metadata": {},
   "outputs": [
    {
     "name": "stdout",
     "output_type": "stream",
     "text": [
      "\n",
      "Run\n",
      "\n",
      "\n",
      "$ python add_paraphrase.py data/spider-20190205/dev.json data/spider-20190205/dev_augmented.json 20\n",
      "\n",
      "$ python preprocess.py --config configs/spider-20190205/arxiv-1906.11790v1_augmented.jsonnet\n",
      "\n",
      "$ python infer.py --config configs/spider-20190205/arxiv-1906.11790v1_augmented.jsonnet \\\n",
      "    --logdir logdirs/20190428-stability/bs=50,lr=1.0e-03,end_lr=0e0,att=2/bs=50,lr=1.0e-03,end_lr=0e0,att=2 \\\n",
      "    --step 40000 --section val --beam-size 100 --output ~/result/inferred_augmented --nproc 64\n",
      "\n",
      "$ python eval.py --config configs/spider-20190205/arxiv-1906.11790v1_augmented.jsonnet \\\n",
      "    --inferred ~/result/inferred_augmented --output ~/result/eval_augmented --section val --evaluate_beams_individually\n",
      "\n",
      "\n",
      "For reranking\n",
      "\n",
      "\n",
      "python infer.py --config configs/spider-20190205/arxiv-1906.11790v1.jsonnet \\\n",
      "    --logdir logdirs/20190428-stability/bs=50,lr=1.0e-03,end_lr=0e0,att=2/bs=50,lr=1.0e-03,end_lr=0e0,att=2 \\\n",
      "    --step 40000 --section train --beam-size 100 --output ~/results/train_results.jsonl --nproc 64\n",
      "python eval.py --config configs/spider-20190205/arxiv-1906.11790v1.jsonnet \\\n",
      "    --inferred ~/results/train_results.jsonl --output ~/results/train_scores.json --section train \\\n",
      "    --evaluate_beams_individually\n",
      "python generate_matching_data.py ~/results/train_scores.json ~/results/matching_data.pkl\n",
      "python scripts/train_match_model.py ~/results/matching_data.pkl \\\n",
      "    ~/results/matching-model-checkpoints-try-2 ~/results/matching-model-stats.pkl\n",
      "\n"
     ]
    }
   ],
   "source": [
    "print(r\"\"\"\n",
    "Run\n",
    "\n",
    "\n",
    "$ python add_paraphrase.py data/spider-20190205/dev.json data/spider-20190205/dev_augmented.json 20\n",
    "\n",
    "$ python preprocess.py --config configs/spider-20190205/arxiv-1906.11790v1_augmented.jsonnet\n",
    "\n",
    "$ python infer.py --config configs/spider-20190205/arxiv-1906.11790v1_augmented.jsonnet \\\n",
    "    --logdir logdirs/20190428-stability/bs=50,lr=1.0e-03,end_lr=0e0,att=2/bs=50,lr=1.0e-03,end_lr=0e0,att=2 \\\n",
    "    --step 40000 --section val --beam-size 100 --output ~/result/inferred_augmented --nproc 64\n",
    "\n",
    "$ python eval.py --config configs/spider-20190205/arxiv-1906.11790v1_augmented.jsonnet \\\n",
    "    --inferred ~/result/inferred_augmented --output ~/result/eval_augmented --section val --evaluate_beams_individually\n",
    "\n",
    "\n",
    "For reranking\n",
    "\n",
    "\n",
    "python infer.py --config configs/spider-20190205/arxiv-1906.11790v1.jsonnet \\\n",
    "    --logdir logdirs/20190428-stability/bs=50,lr=1.0e-03,end_lr=0e0,att=2/bs=50,lr=1.0e-03,end_lr=0e0,att=2 \\\n",
    "    --step 40000 --section train --beam-size 100 --output ~/results/train_results.jsonl --nproc 64\n",
    "python eval.py --config configs/spider-20190205/arxiv-1906.11790v1.jsonnet \\\n",
    "    --inferred ~/results/train_results.jsonl --output ~/results/train_scores.json --section train \\\n",
    "    --evaluate_beams_individually\n",
    "python generate_matching_data.py ~/results/train_scores.json ~/results/matching_data.pkl\n",
    "python scripts/train_match_model.py ~/results/matching_data.pkl \\\n",
    "    ~/results/matching-model-checkpoints-try-2 ~/results/matching-model-stats.pkl\n",
    "    python process_data.py\n",
    "\"\"\")"
   ]
  },
  {
   "cell_type": "code",
   "execution_count": 2,
   "metadata": {},
   "outputs": [],
   "source": [
    "import re"
   ]
  },
  {
   "cell_type": "code",
   "execution_count": 32,
   "metadata": {},
   "outputs": [],
   "source": [
    "import json\n",
    "from os.path import expanduser\n",
    "import os\n",
    "os.environ[\"CUDA_VISIBLE_DEVICES\"] = \"\"\n",
    "from collections import defaultdict, namedtuple\n",
    "from itertools import count\n",
    "\n",
    "import numpy as np\n",
    "import matplotlib.pyplot as plt\n",
    "\n",
    "from seq2struct.models.match_model import MatchModel\n",
    "from tqdm import tqdm_notebook as tqdm\n",
    "import pickle"
   ]
  },
  {
   "cell_type": "code",
   "execution_count": 5,
   "metadata": {},
   "outputs": [],
   "source": [
    "%matplotlib inline\n",
    "%load_ext autoreload\n",
    "%autoreload 2"
   ]
  },
  {
   "cell_type": "code",
   "execution_count": 33,
   "metadata": {},
   "outputs": [],
   "source": [
    "with open(expanduser(\"~/results/matching-model-stats.pkl\"), \"rb\") as f:\n",
    "    s = pickle.load(f)"
   ]
  },
  {
   "cell_type": "code",
   "execution_count": 34,
   "metadata": {},
   "outputs": [
    {
     "data": {
      "text/plain": [
       "{'auc': 0.9506275,\n",
       " 'eval_accuracy': 0.951143,\n",
       " 'f1_score': 0.9271833,\n",
       " 'false_negatives': 202.0,\n",
       " 'false_positives': 390.0,\n",
       " 'loss': 0.13431974,\n",
       " 'precision': 0.90622747,\n",
       " 'recall': 0.9491312,\n",
       " 'true_negatives': 7756.0,\n",
       " 'true_positives': 3769.0,\n",
       " 'global_step': 10222}"
      ]
     },
     "execution_count": 34,
     "metadata": {},
     "output_type": "execute_result"
    }
   ],
   "source": [
    "s"
   ]
  },
  {
   "cell_type": "code",
   "execution_count": 36,
   "metadata": {},
   "outputs": [
    {
     "data": {
      "text/plain": [
       "0.951143"
      ]
     },
     "execution_count": 36,
     "metadata": {},
     "output_type": "execute_result"
    }
   ],
   "source": [
    "(s['true_positives'] + s['true_negatives']) / (s['true_positives'] + s['true_negatives'] + s['false_positives'] + s['false_negatives'])"
   ]
  },
  {
   "cell_type": "code",
   "execution_count": 37,
   "metadata": {},
   "outputs": [],
   "source": [
    "with open(expanduser(\"~/results/full-data.pkl\"), \"rb\") as f:\n",
    "    by_sql_humanwording_and_compwording = pickle.load(f)"
   ]
  },
  {
   "cell_type": "code",
   "execution_count": 45,
   "metadata": {},
   "outputs": [],
   "source": [
    "beam = by_sql_humanwording_and_compwording['SELECT count(*) FROM singer']['How many singers do we have?']['How many singers do we have?']"
   ]
  },
  {
   "cell_type": "code",
   "execution_count": 67,
   "metadata": {},
   "outputs": [],
   "source": [
    "def logit_match(beam):\n",
    "    no_match, match = beam['match_score']['probabilities']\n",
    "    return match - no_match"
   ]
  },
  {
   "cell_type": "code",
   "execution_count": 17,
   "metadata": {},
   "outputs": [],
   "source": [
    "def shufd(xs, rng):\n",
    "    xs = list(xs)\n",
    "    rng.shuffle(xs)\n",
    "    return xs"
   ]
  },
  {
   "cell_type": "code",
   "execution_count": 18,
   "metadata": {
    "scrolled": true
   },
   "outputs": [],
   "source": [
    "def round_robin(item_sequences, resequencer):\n",
    "    \"\"\"\n",
    "    Returns a sequence where every element in the sequence is in order\n",
    "    of it's position in the original item sequences, but is otherwise\n",
    "    in random order.\n",
    "    \"\"\"\n",
    "    result = []\n",
    "    for idx in count():\n",
    "        done = True\n",
    "        for sequence in resequencer(item_sequences):\n",
    "            if idx >= len(sequence):\n",
    "                continue\n",
    "            done = False\n",
    "            result.append(sequence[idx])\n",
    "        if done:\n",
    "            break\n",
    "    return result"
   ]
  },
  {
   "cell_type": "code",
   "execution_count": 33,
   "metadata": {},
   "outputs": [],
   "source": [
    "def sorted_by_score(beams):\n",
    "    return sorted(beams, key=lambda x: x['score'], reverse=True)"
   ]
  },
  {
   "cell_type": "code",
   "execution_count": 68,
   "metadata": {},
   "outputs": [],
   "source": [
    "def individual_human(by_human_wording):\n",
    "    # only goes through the beams for an indivdual human wording\n",
    "    for human_wording in by_human_wording:\n",
    "        yield by_human_wording[human_wording][human_wording]\n",
    "\n",
    "def individual_human_bert_approved(by_human_wording):\n",
    "    # only goes through the beams for an indivdual human wording,\n",
    "    # first traversing the bert-approved beams\n",
    "    for human_wording in by_human_wording:\n",
    "        beam = by_human_wording[human_wording][human_wording]\n",
    "        yield [b for b in beam if b['match_score']['labels']] + [b for b in beam if not b['match_score']['labels']]\n",
    "\n",
    "def individual_human_bert_ordered(by_human_wording):\n",
    "    # only goes through the beams for an indivdual human wording,\n",
    "    # first traversing the bert-approved beams\n",
    "    for human_wording in by_human_wording:\n",
    "        beam = by_human_wording[human_wording][human_wording]\n",
    "        yield sorted(beam, key=logit_match, reverse=True)\n",
    "#         yield [b for b in beam if b['match_score']['labels']] + [b for b in beam if not b['match_score']['labels']]\n",
    "\n",
    "\n",
    "def individual_human_with_computer_paraphrasing(by_human_wording, k):\n",
    "    # round-robins the beams for k randomly selected computer paraphrases\n",
    "    # of the human sentence\n",
    "    for human_wording in by_human_wording:\n",
    "        for_wording = by_human_wording[human_wording]\n",
    "        selected_wordings = list(np.random.choice(list(for_wording), size=min(k, len(for_wording)), replace=False))\n",
    "        selected_wordings = [human_wording] + selected_wordings\n",
    "        yield round_robin([for_wording[w] for w in selected_wordings], lambda x : x[:1] + shufd(x[1:], np.random))\n",
    "\n",
    "def individual_human_with_computer_paraphrasing_by_score(by_human_wording, k):\n",
    "    # round-robins the beams for k randomly selected computer paraphrases\n",
    "    # of the human sentence\n",
    "    for human_wording in by_human_wording:\n",
    "        for_wording = by_human_wording[human_wording]\n",
    "        selected_wordings = list(np.random.choice(list(for_wording), size=min(k, len(for_wording)), replace=False))\n",
    "        selected_wordings = [human_wording] + selected_wordings\n",
    "        yield sorted_by_score([b for w in selected_wordings for b in for_wording[w]])\n",
    "\n",
    "def all_human(by_human_wording):\n",
    "    yield round_robin(list(individual_human(by_human_wording)), lambda x: shufd(x, np.random))"
   ]
  },
  {
   "cell_type": "code",
   "execution_count": null,
   "metadata": {},
   "outputs": [],
   "source": []
  },
  {
   "cell_type": "code",
   "execution_count": null,
   "metadata": {},
   "outputs": [],
   "source": []
  },
  {
   "cell_type": "code",
   "execution_count": 60,
   "metadata": {},
   "outputs": [],
   "source": [
    "def beam_count(item):\n",
    "    \"\"\"\n",
    "    Takes several sequential results and returns the number\n",
    "    of beams that must be viewed to produce an exact match,\n",
    "    or infinity if it is impossible.\n",
    "    \"\"\"\n",
    "    beams = set()\n",
    "    for beam in item:\n",
    "        beams.add(beam['predicted'])\n",
    "        if beam['exact']:\n",
    "            return len(beams)\n",
    "    return float('inf')\n",
    "def probs(counts, max_count):\n",
    "    by = []\n",
    "    for count in range(1, max_count + 1):\n",
    "        by.append(np.mean([x <= count for x in counts]) * 100)\n",
    "    return by"
   ]
  },
  {
   "cell_type": "code",
   "execution_count": 61,
   "metadata": {},
   "outputs": [],
   "source": [
    "def all_beam_counts(strategy, by_sql_hw_cw):\n",
    "    for for_wording in by_sql_hw_cw.values():\n",
    "        for beams in strategy(for_wording):\n",
    "            yield beam_count(beams)\n",
    "\n",
    "def probs_for_strat(strategy, by_sql_hw_cw, max_count):\n",
    "    return probs(list(all_beam_counts(strategy, by_sql_hw_cw)), max_count)"
   ]
  },
  {
   "cell_type": "code",
   "execution_count": null,
   "metadata": {
    "scrolled": true
   },
   "outputs": [],
   "source": []
  },
  {
   "cell_type": "code",
   "execution_count": null,
   "metadata": {},
   "outputs": [],
   "source": []
  },
  {
   "cell_type": "code",
   "execution_count": 69,
   "metadata": {},
   "outputs": [
    {
     "data": {
      "image/png": "[encoded data removed]",
      "text/plain": [
       "<Figure size 720x720 with 1 Axes>"
      ]
     },
     "metadata": {
      "needs_background": "light"
     },
     "output_type": "display_data"
    }
   ],
   "source": [
    "max_count = 100\n",
    "plt.figure(figsize=(10, 10))\n",
    "plt.plot(np.arange(1, 1 + max_count),\n",
    "         probs_for_strat(individual_human, by_sql_humanwording_and_compwording, max_count),\n",
    "         label=\"Single Human-provided Wording\")\n",
    "plt.plot(np.arange(1, 1 + max_count),\n",
    "         probs_for_strat(individual_human_bert_approved, by_sql_humanwording_and_compwording, max_count),\n",
    "         label=\"Single Human-provided Wording [Bert Approved]\")\n",
    "plt.plot(np.arange(1, 1 + max_count),\n",
    "         probs_for_strat(individual_human_bert_ordered, by_sql_humanwording_and_compwording, max_count),\n",
    "         label=\"Single Human-provided Wording [Bert Ordered]\")\n",
    "# plt.plot(np.arange(1, 1 + max_count),\n",
    "#          probs_for_strat(all_human, by_sql_humanwording_and_compwording, max_count),\n",
    "#          label=\"round robin all human paraphrases\")\n",
    "# for k in 1, 2:\n",
    "#     plt.plot(np.arange(1, 1 + max_count),\n",
    "#              probs_for_strat(lambda x: individual_human_with_computer_paraphrasing(x, k),\n",
    "#                              by_sql_humanwording_and_compwording,\n",
    "#                              max_count),\n",
    "#              \"--\",\n",
    "#              label=\"round robin one human paraphrase + %s computer paraphrases\" % k)\n",
    "# for k in 1, 2, 4:\n",
    "#     plt.plot(np.arange(1, 1 + max_count),\n",
    "#              probs_for_strat(lambda x: individual_human_with_computer_paraphrasing_by_score(x, k),\n",
    "#                              by_sql_humanwording_and_compwording,\n",
    "#                              max_count),\n",
    "#              \"--\",\n",
    "#              label=\"independently score-order interleaved one human paraphrase + %s computer paraphrases\" % k)\n",
    "\n",
    "plt.ylabel(\"Probability of exact match [%]\")\n",
    "plt.xlabel(\"Number of beams considered\")\n",
    "plt.xscale('log')\n",
    "plt.legend()\n",
    "ticks = list(range(1, 10)) + list(range(10, 101, 10)) + [200]\n",
    "plt.xticks(ticks, labels=ticks, rotation=-45)\n",
    "plt.grid()"
   ]
  },
  {
   "cell_type": "code",
   "execution_count": 78,
   "metadata": {},
   "outputs": [
    {
     "data": {
      "text/plain": [
       "0.8725338491295939"
      ]
     },
     "execution_count": 78,
     "metadata": {},
     "output_type": "execute_result"
    }
   ],
   "source": [
    "track_record = []\n",
    "for sql, by_human_wording in by_sql_humanwording_and_compwording.items():\n",
    "    for human_wording in by_human_wording:\n",
    "        beam = by_human_wording[human_wording][human_wording]\n",
    "        track_record += [b['match_score']['labels'] == b['exact'] for b in beam[:10]]\n",
    "np.mean(track_record)"
   ]
  },
  {
   "cell_type": "code",
   "execution_count": null,
   "metadata": {},
   "outputs": [],
   "source": []
  },
  {
   "cell_type": "code",
   "execution_count": null,
   "metadata": {},
   "outputs": [],
   "source": []
  }
 ],
 "metadata": {
  "kernelspec": {
   "display_name": "Python 3",
   "language": "python",
   "name": "python3"
  },
  "language_info": {
   "codemirror_mode": {
    "name": "ipython",
    "version": 3
   },
   "file_extension": ".py",
   "mimetype": "text/x-python",
   "name": "python",
   "nbconvert_exporter": "python",
   "pygments_lexer": "ipython3",
   "version": "3.6.9"
  }
 },
 "nbformat": 4,
 "nbformat_minor": 2
}
