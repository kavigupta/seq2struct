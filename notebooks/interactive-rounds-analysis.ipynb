{
 "cells": [
  {
   "cell_type": "code",
   "execution_count": 1,
   "metadata": {},
   "outputs": [
    {
     "name": "stdout",
     "output_type": "stream",
     "text": [
      "\n",
      "$ python infer.py --config configs/spider-20190205/arxiv-1906.11790v1.jsonnet     --logdir logdirs/20190428-stability/bs=50,lr=1.0e-03,end_lr=0e0,att=2/bs=50,lr=1.0e-03,end_lr=0e0,att=2     --step 40000 --section val --beam-size 100 --output ~/inferred\n",
      "\n",
      "$ python eval.py --config configs/spider-20190205/arxiv-1906.11790v1.jsonnet --inferred ~/inferred     --output ~/eval --section val --evaluate_beams_individually\n",
      "\n",
      "$ python add_paraphrase.py data/spider-20190205/dev.json data/spider-20190205/dev_augmented.json 20\n",
      "\n",
      "$ python preprocess.py --config configs/spider-20190205/arxiv-1906.11790v1_augmented.jsonnet\n",
      "\n",
      "$ python infer.py --config configs/spider-20190205/arxiv-1906.11790v1_augmented.jsonnet     --logdir logdirs/20190428-stability/bs=50,lr=1.0e-03,end_lr=0e0,att=2/bs=50,lr=1.0e-03,end_lr=0e0,att=2     --step 40000 --section val --beam-size 100 --output ~/inferred_augmented --nproc 64\n",
      "\n",
      "$ python eval.py --config configs/spider-20190205/arxiv-1906.11790v1_augmented.jsonnet     --inferred ~/inferred_augmented --output ~/eval_augmented --section val --evaluate_beams_individually\n",
      "\n"
     ]
    }
   ],
   "source": [
    "print(\"\"\"\n",
    "$ python infer.py --config configs/spider-20190205/arxiv-1906.11790v1.jsonnet \\\n",
    "    --logdir logdirs/20190428-stability/bs=50,lr=1.0e-03,end_lr=0e0,att=2/bs=50,lr=1.0e-03,end_lr=0e0,att=2 \\\n",
    "    --step 40000 --section val --beam-size 100 --output ~/inferred\n",
    "\n",
    "$ python eval.py --config configs/spider-20190205/arxiv-1906.11790v1.jsonnet --inferred ~/inferred \\\n",
    "    --output ~/eval --section val --evaluate_beams_individually\n",
    "\n",
    "$ python add_paraphrase.py data/spider-20190205/dev.json data/spider-20190205/dev_augmented.json 20\n",
    "\n",
    "$ python preprocess.py --config configs/spider-20190205/arxiv-1906.11790v1_augmented.jsonnet\n",
    "\n",
    "$ python infer.py --config configs/spider-20190205/arxiv-1906.11790v1_augmented.jsonnet \\\n",
    "    --logdir logdirs/20190428-stability/bs=50,lr=1.0e-03,end_lr=0e0,att=2/bs=50,lr=1.0e-03,end_lr=0e0,att=2 \\\n",
    "    --step 40000 --section val --beam-size 100 --output ~/inferred_augmented --nproc 64\n",
    "\n",
    "$ python eval.py --config configs/spider-20190205/arxiv-1906.11790v1_augmented.jsonnet \\\n",
    "    --inferred ~/inferred_augmented --output ~/eval_augmented --section val --evaluate_beams_individually\n",
    "\"\"\")"
   ]
  },
  {
   "cell_type": "code",
   "execution_count": 2,
   "metadata": {},
   "outputs": [],
   "source": [
    "import re"
   ]
  },
  {
   "cell_type": "code",
   "execution_count": 3,
   "metadata": {},
   "outputs": [],
   "source": [
    "import json\n",
    "from os.path import expanduser\n",
    "from collections import defaultdict, namedtuple\n",
    "from itertools import count\n",
    "\n",
    "import numpy as np\n",
    "import matplotlib.pyplot as plt"
   ]
  },
  {
   "cell_type": "code",
   "execution_count": 4,
   "metadata": {},
   "outputs": [],
   "source": [
    "%matplotlib inline"
   ]
  },
  {
   "cell_type": "code",
   "execution_count": 7,
   "metadata": {
    "scrolled": true
   },
   "outputs": [],
   "source": [
    "with open('../data/spider-20190205/dev_augmented.json') as f:\n",
    "    augmented_data = json.load(f)\n",
    "with open(expanduser(\"~/inferred_augmented\")) as f:\n",
    "    infer_augmented_result = [json.loads(line) for line in f]\n",
    "with open(expanduser(\"~/eval_augmented\")) as f:\n",
    "    eval_augmented_result = json.load(f)"
   ]
  },
  {
   "cell_type": "code",
   "execution_count": 8,
   "metadata": {},
   "outputs": [],
   "source": [
    "GeneratedParaphrases = namedtuple('GeneratedParaphrases', ['human_wording', 'by_wording'])"
   ]
  },
  {
   "cell_type": "code",
   "execution_count": 9,
   "metadata": {},
   "outputs": [],
   "source": [
    "by_sql_humanwording_and_compwording = defaultdict(lambda: defaultdict(dict))"
   ]
  },
  {
   "cell_type": "code",
   "execution_count": 16,
   "metadata": {
    "scrolled": true
   },
   "outputs": [],
   "source": [
    "for result_idx, beams in eval_augmented_result['per_item']:\n",
    "    data = augmented_data[result_idx]\n",
    "    query = data['query']\n",
    "    human_wording = data['human_wording']\n",
    "    wording = data['question']\n",
    "    inferences = infer_augmented_result[result_idx]\n",
    "    with_score = [\n",
    "        dict(**eval_beam, score=infer_beam['score'])\n",
    "        for eval_beam, infer_beam in zip(beams, inferences['beams'])]\n",
    "    by_sql_humanwording_and_compwording[query][human_wording][wording] = with_score"
   ]
  },
  {
   "cell_type": "code",
   "execution_count": 17,
   "metadata": {},
   "outputs": [],
   "source": [
    "def shufd(xs, rng):\n",
    "    xs = list(xs)\n",
    "    rng.shuffle(xs)\n",
    "    return xs"
   ]
  },
  {
   "cell_type": "code",
   "execution_count": 18,
   "metadata": {
    "scrolled": true
   },
   "outputs": [],
   "source": [
    "def round_robin(item_sequences, resequencer):\n",
    "    \"\"\"\n",
    "    Returns a sequence where every element in the sequence is in order\n",
    "    of it's position in the original item sequences, but is otherwise\n",
    "    in random order.\n",
    "    \"\"\"\n",
    "    result = []\n",
    "    for idx in count():\n",
    "        done = True\n",
    "        for sequence in resequencer(item_sequences):\n",
    "            if idx >= len(sequence):\n",
    "                continue\n",
    "            done = False\n",
    "            result.append(sequence[idx])\n",
    "        if done:\n",
    "            break\n",
    "    return result"
   ]
  },
  {
   "cell_type": "code",
   "execution_count": 33,
   "metadata": {},
   "outputs": [],
   "source": [
    "def sorted_by_score(beams):\n",
    "    return sorted(beams, key=lambda x: x['score'], reverse=True)"
   ]
  },
  {
   "cell_type": "code",
   "execution_count": 34,
   "metadata": {},
   "outputs": [],
   "source": [
    "def individual_human(by_human_wording):\n",
    "    # only goes through the beams for an indivdual human wording\n",
    "    for human_wording in by_human_wording:\n",
    "        yield by_human_wording[human_wording][human_wording]\n",
    "\n",
    "def individual_human_with_computer_paraphrasing(by_human_wording, k):\n",
    "    # round-robins the beams for k randomly selected computer paraphrases\n",
    "    # of the human sentence\n",
    "    for human_wording in by_human_wording:\n",
    "        for_wording = by_human_wording[human_wording]\n",
    "        selected_wordings = list(np.random.choice(list(for_wording), size=min(k, len(for_wording)), replace=False))\n",
    "        selected_wordings = [human_wording] + selected_wordings\n",
    "        yield round_robin([for_wording[w] for w in selected_wordings], lambda x : x[:1] + shufd(x[1:], np.random))\n",
    "\n",
    "def individual_human_with_computer_paraphrasing_by_score(by_human_wording, k):\n",
    "    # round-robins the beams for k randomly selected computer paraphrases\n",
    "    # of the human sentence\n",
    "    for human_wording in by_human_wording:\n",
    "        for_wording = by_human_wording[human_wording]\n",
    "        selected_wordings = list(np.random.choice(list(for_wording), size=min(k, len(for_wording)), replace=False))\n",
    "        selected_wordings = [human_wording] + selected_wordings\n",
    "        yield sorted_by_score([b for w in selected_wordings for b in for_wording[w]])\n",
    "\n",
    "def all_human(by_human_wording):\n",
    "    yield round_robin(list(individual_human(by_human_wording)), lambda x: shufd(x, np.random))"
   ]
  },
  {
   "cell_type": "code",
   "execution_count": null,
   "metadata": {},
   "outputs": [],
   "source": []
  },
  {
   "cell_type": "code",
   "execution_count": null,
   "metadata": {},
   "outputs": [],
   "source": []
  },
  {
   "cell_type": "code",
   "execution_count": 43,
   "metadata": {},
   "outputs": [],
   "source": [
    "def beam_count(item):\n",
    "    \"\"\"\n",
    "    Takes several sequential results and returns the number\n",
    "    of beams that must be viewed to produce an exact match,\n",
    "    or infinity if it is impossible.\n",
    "    \"\"\"\n",
    "    beams = set()\n",
    "    for beam in item:\n",
    "        beams.add(beam['predicted'])\n",
    "        if beam['exact']:\n",
    "            return len(beams)\n",
    "    return float('inf')\n",
    "def probs(counts, max_count):\n",
    "    by = []\n",
    "    for count in range(1, max_count + 1):\n",
    "        by.append(np.mean([x <= count for x in counts]) * 100)\n",
    "    return by"
   ]
  },
  {
   "cell_type": "code",
   "execution_count": 44,
   "metadata": {},
   "outputs": [],
   "source": [
    "def all_beam_counts(strategy, by_sql_hw_cw):\n",
    "    for for_wording in by_sql_hw_cw.values():\n",
    "        for beams in strategy(for_wording):\n",
    "            yield beam_count(beams)\n",
    "\n",
    "def probs_for_strat(strategy, by_sql_hw_cw, max_count):\n",
    "    return probs(list(all_beam_counts(strategy, by_sql_hw_cw)), max_count)"
   ]
  },
  {
   "cell_type": "code",
   "execution_count": null,
   "metadata": {
    "scrolled": true
   },
   "outputs": [],
   "source": []
  },
  {
   "cell_type": "code",
   "execution_count": null,
   "metadata": {},
   "outputs": [],
   "source": []
  },
  {
   "cell_type": "code",
   "execution_count": 51,
   "metadata": {},
   "outputs": [
    {
     "data": {
      "image/png": "[encoded data removed]",
      "text/plain": [
       "<Figure size 720x720 with 1 Axes>"
      ]
     },
     "metadata": {
      "needs_background": "light"
     },
     "output_type": "display_data"
    }
   ],
   "source": [
    "max_count = 100\n",
    "plt.figure(figsize=(10, 10))\n",
    "plt.plot(np.arange(1, 1 + max_count),\n",
    "         probs_for_strat(individual_human, by_sql_humanwording_and_compwording, max_count),\n",
    "         label=\"only one human paraphrase\")\n",
    "# plt.plot(np.arange(1, 1 + max_count),\n",
    "#          probs_for_strat(all_human, by_sql_humanwording_and_compwording, max_count),\n",
    "#          label=\"round robin all human paraphrases\")\n",
    "# for k in 1, 2:\n",
    "#     plt.plot(np.arange(1, 1 + max_count),\n",
    "#              probs_for_strat(lambda x: individual_human_with_computer_paraphrasing(x, k),\n",
    "#                              by_sql_humanwording_and_compwording,\n",
    "#                              max_count),\n",
    "#              \"--\",\n",
    "#              label=\"round robin one human paraphrase + %s computer paraphrases\" % k)\n",
    "# for k in 1, 2, 4:\n",
    "#     plt.plot(np.arange(1, 1 + max_count),\n",
    "#              probs_for_strat(lambda x: individual_human_with_computer_paraphrasing_by_score(x, k),\n",
    "#                              by_sql_humanwording_and_compwording,\n",
    "#                              max_count),\n",
    "#              \"--\",\n",
    "#              label=\"independently score-order interleaved one human paraphrase + %s computer paraphrases\" % k)\n",
    "\n",
    "plt.ylabel(\"Probability of exact match [%]\")\n",
    "plt.xlabel(\"Number of beams considered\")\n",
    "plt.xscale('log')\n",
    "plt.legend()\n",
    "ticks = list(range(1, 10)) + list(range(10, 101, 10)) + [200]\n",
    "plt.xticks(ticks, labels=ticks, rotation=-45)\n",
    "plt.grid()"
   ]
  },
  {
   "cell_type": "code",
   "execution_count": null,
   "metadata": {},
   "outputs": [],
   "source": []
  },
  {
   "cell_type": "code",
   "execution_count": null,
   "metadata": {},
   "outputs": [],
   "source": []
  },
  {
   "cell_type": "code",
   "execution_count": null,
   "metadata": {},
   "outputs": [],
   "source": []
  }
 ],
 "metadata": {
  "kernelspec": {
   "display_name": "Python 3",
   "language": "python",
   "name": "python3"
  },
  "language_info": {
   "codemirror_mode": {
    "name": "ipython",
    "version": 3
   },
   "file_extension": ".py",
   "mimetype": "text/x-python",
   "name": "python",
   "nbconvert_exporter": "python",
   "pygments_lexer": "ipython3",
   "version": "3.7.4"
  }
 },
 "nbformat": 4,
 "nbformat_minor": 2
}
